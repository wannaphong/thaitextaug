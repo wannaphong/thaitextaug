{
 "cells": [
  {
   "cell_type": "code",
   "execution_count": 1,
   "metadata": {},
   "outputs": [],
   "source": [
    "from thaitextaug.lm.fasttext import FastTextAug"
   ]
  },
  {
   "cell_type": "code",
   "execution_count": 2,
   "metadata": {},
   "outputs": [],
   "source": [
    "m = FastTextAug(\"cc.th.300.vec\")"
   ]
  },
  {
   "cell_type": "code",
   "execution_count": 13,
   "metadata": {},
   "outputs": [
    {
     "data": {
      "text/plain": [
       "[['รัฐมนตรี', 'นายก', 'ว่า', 'บอก', 'ทุกๆ', 'คน', 'รัก', 'ในหลวง'],\n",
       " ['รัฐมนตรี', 'นายก', 'ว่า', 'นั้น', 'ทุกๆ', 'คน', 'รัก', 'ในหลวง'],\n",
       " ['รัฐมนตรี', 'รัฐมนตรี2', 'ว่า', 'เพราะ', 'ทุกๆ', 'คน', 'รัก', 'ในหลวง']]"
      ]
     },
     "execution_count": 13,
     "metadata": {},
     "output_type": "execute_result"
    }
   ],
   "source": [
    "m.augment(\"นายกรัฐมนตรีบอกว่าทุกคนรักในหลวง\",n_sent=3,p=0.7)"
   ]
  },
  {
   "cell_type": "code",
   "execution_count": null,
   "metadata": {},
   "outputs": [],
   "source": []
  }
 ],
 "metadata": {
  "kernelspec": {
   "display_name": "Python 3",
   "language": "python",
   "name": "python3"
  },
  "language_info": {
   "codemirror_mode": {
    "name": "ipython",
    "version": 3
   },
   "file_extension": ".py",
   "mimetype": "text/x-python",
   "name": "python",
   "nbconvert_exporter": "python",
   "pygments_lexer": "ipython3",
   "version": "3.8.5"
  }
 },
 "nbformat": 4,
 "nbformat_minor": 4
}
