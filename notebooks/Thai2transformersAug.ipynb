{
 "cells": [
  {
   "cell_type": "code",
   "execution_count": null,
   "metadata": {},
   "outputs": [],
   "source": [
    "!pip install thaitextaug"
   ]
  },
  {
   "cell_type": "markdown",
   "metadata": {},
   "source": [
    "# Thai2transformersAug\n",
    "\n",
    "Text Augment from wangchanberta\n",
    "\n",
    "thai2transformers: [vistec-AI/thai2transformers/](https://github.com/vistec-AI/thai2transformers/)"
   ]
  },
  {
   "cell_type": "code",
   "execution_count": 1,
   "metadata": {},
   "outputs": [],
   "source": [
    "from thaitextaug.lm import Thai2transformersAug"
   ]
  },
  {
   "cell_type": "code",
   "execution_count": 2,
   "metadata": {},
   "outputs": [],
   "source": [
    "a = Thai2transformersAug()"
   ]
  },
  {
   "cell_type": "code",
   "execution_count": 3,
   "metadata": {},
   "outputs": [],
   "source": [
    "text = \"เราอยู่ที่มหาวิทยาลัยขอนแก่น\""
   ]
  },
  {
   "cell_type": "code",
   "execution_count": 25,
   "metadata": {},
   "outputs": [
    {
     "data": {
      "text/plain": [
       "['เราอยู่ที่มหาวิทยาลัย',\n",
       " 'เราอยู่ที่มหาวิทยาลัยเชียงใหม่',\n",
       " 'เราอยู่ที่มหาวิทยาลัยรามคําแหง',\n",
       " 'เราอยู่ที่มหาวิทยาลัยมหิดล',\n",
       " 'เราอยู่ที่มหาวิทยาลัยขอนแก่น']"
      ]
     },
     "execution_count": 25,
     "metadata": {},
     "output_type": "execute_result"
    }
   ],
   "source": [
    "a.augment(text, num_replace_tokens=1)"
   ]
  },
  {
   "cell_type": "code",
   "execution_count": 26,
   "metadata": {},
   "outputs": [
    {
     "data": {
      "text/plain": [
       "['ผมอยากกินไอติม',\n",
       " 'ผมอยากกินมาก',\n",
       " 'ผมอยากกินครับ',\n",
       " 'ผมอยากกินมัน',\n",
       " 'ผมอยากกินพิซซ่า']"
      ]
     },
     "execution_count": 26,
     "metadata": {},
     "output_type": "execute_result"
    }
   ],
   "source": [
    "a.augment(\"ผมอยากกินข้าวมันไก่\", num_replace_tokens=1)"
   ]
  },
  {
   "cell_type": "code",
   "execution_count": 27,
   "metadata": {},
   "outputs": [
    {
     "data": {
      "text/plain": [
       "['ผมเลี้ยง แมว', 'ผมเป็น แมว', 'ผมชื่อ แมว', 'ผมรัก แมว', 'ผมสงสาร แมว']"
      ]
     },
     "execution_count": 27,
     "metadata": {},
     "output_type": "execute_result"
    }
   ],
   "source": [
    "a.augment(\"ผมเลี้ยงแมว\", num_replace_tokens=1)"
   ]
  },
  {
   "cell_type": "code",
   "execution_count": null,
   "metadata": {},
   "outputs": [],
   "source": []
  }
 ],
 "metadata": {
  "kernelspec": {
   "display_name": "Python 3",
   "language": "python",
   "name": "python3"
  },
  "language_info": {
   "codemirror_mode": {
    "name": "ipython",
    "version": 3
   },
   "file_extension": ".py",
   "mimetype": "text/x-python",
   "name": "python",
   "nbconvert_exporter": "python",
   "pygments_lexer": "ipython3",
   "version": "3.8.5"
  }
 },
 "nbformat": 4,
 "nbformat_minor": 4
}
