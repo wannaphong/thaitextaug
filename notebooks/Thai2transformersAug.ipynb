{
 "cells": [
  {
   "cell_type": "code",
   "execution_count": 1,
   "metadata": {},
   "outputs": [
    {
     "name": "stdout",
     "output_type": "stream",
     "text": [
      "Requirement already satisfied: thaitextaug in d:\\nlp\\thaitextaug (0.0.1.dev7)\n",
      "Requirement already satisfied: pythainlp>=2.0 in d:\\pythainlp (from thaitextaug) (2.3.1)\n",
      "Requirement already satisfied: bpemb in c:\\python\\python38\\lib\\site-packages (from thaitextaug) (0.3.2)\n",
      "Requirement already satisfied: gensim>=4.0.0 in c:\\python\\python38\\lib\\site-packages (from thaitextaug) (4.0.1)\n",
      "Requirement already satisfied: nltk in c:\\python\\python38\\lib\\site-packages (from thaitextaug) (3.5)\n"
     ]
    },
    {
     "name": "stderr",
     "output_type": "stream",
     "text": [
      "WARNING: You are using pip version 20.1.1; however, version 21.1.1 is available.\n",
      "You should consider upgrading via the 'c:\\python\\python38\\python.exe -m pip install --upgrade pip' command.\n"
     ]
    },
    {
     "name": "stdout",
     "output_type": "stream",
     "text": [
      "Requirement already satisfied: python-crfsuite>=0.9.6 in c:\\python\\python38\\lib\\site-packages (from pythainlp>=2.0->thaitextaug) (0.9.7)\n",
      "Requirement already satisfied: requests>=2.22.0 in c:\\python\\python38\\lib\\site-packages (from pythainlp>=2.0->thaitextaug) (2.24.0)\n",
      "Requirement already satisfied: tinydb>=3.0 in c:\\python\\python38\\lib\\site-packages (from pythainlp>=2.0->thaitextaug) (4.1.1)\n",
      "Requirement already satisfied: sentencepiece in c:\\python\\python38\\lib\\site-packages (from bpemb->thaitextaug) (0.1.91)\n",
      "Requirement already satisfied: numpy in c:\\python\\python38\\lib\\site-packages (from bpemb->thaitextaug) (1.19.5)\n",
      "Requirement already satisfied: tqdm in c:\\python\\python38\\lib\\site-packages (from bpemb->thaitextaug) (4.49.0)\n",
      "Requirement already satisfied: smart-open>=1.8.1 in c:\\python\\python38\\lib\\site-packages (from gensim>=4.0.0->thaitextaug) (3.0.0)\n",
      "Requirement already satisfied: scipy>=0.18.1 in c:\\python\\python38\\lib\\site-packages (from gensim>=4.0.0->thaitextaug) (1.4.1)\n",
      "Requirement already satisfied: Cython==0.29.21 in c:\\python\\python38\\lib\\site-packages (from gensim>=4.0.0->thaitextaug) (0.29.21)\n",
      "Requirement already satisfied: regex in c:\\python\\python38\\lib\\site-packages (from nltk->thaitextaug) (2020.10.11)\n",
      "Requirement already satisfied: click in c:\\python\\python38\\lib\\site-packages (from nltk->thaitextaug) (7.1.2)\n",
      "Requirement already satisfied: joblib in c:\\python\\python38\\lib\\site-packages (from nltk->thaitextaug) (0.17.0)\n",
      "Requirement already satisfied: certifi>=2017.4.17 in c:\\python\\python38\\lib\\site-packages (from requests>=2.22.0->pythainlp>=2.0->thaitextaug) (2020.6.20)\n",
      "Requirement already satisfied: urllib3!=1.25.0,!=1.25.1,<1.26,>=1.21.1 in c:\\python\\python38\\lib\\site-packages (from requests>=2.22.0->pythainlp>=2.0->thaitextaug) (1.25.10)\n",
      "Requirement already satisfied: chardet<4,>=3.0.2 in c:\\python\\python38\\lib\\site-packages (from requests>=2.22.0->pythainlp>=2.0->thaitextaug) (3.0.4)\n",
      "Requirement already satisfied: idna<3,>=2.5 in c:\\python\\python38\\lib\\site-packages (from requests>=2.22.0->pythainlp>=2.0->thaitextaug) (2.10)\n"
     ]
    }
   ],
   "source": [
    "!pip install thaitextaug"
   ]
  },
  {
   "cell_type": "markdown",
   "metadata": {},
   "source": [
    "# Thai2transformersAug\n",
    "\n",
    "Text Augment from wangchanberta\n",
    "\n",
    "thai2transformers: [vistec-AI/thai2transformers/](https://github.com/vistec-AI/thai2transformers/)"
   ]
  },
  {
   "cell_type": "code",
   "execution_count": 2,
   "metadata": {},
   "outputs": [],
   "source": [
    "from thaitextaug.lm import Thai2transformersAug"
   ]
  },
  {
   "cell_type": "code",
   "execution_count": 3,
   "metadata": {},
   "outputs": [],
   "source": [
    "a = Thai2transformersAug()"
   ]
  },
  {
   "cell_type": "code",
   "execution_count": 19,
   "metadata": {},
   "outputs": [],
   "source": [
    "text = \"เราอยู่ที่มหาวิทยาลัยขอนแก่น\""
   ]
  },
  {
   "cell_type": "code",
   "execution_count": 22,
   "metadata": {},
   "outputs": [
    {
     "data": {
      "text/plain": [
       "['เราอยู่ที่มหาวิทยาลัย',\n",
       " 'เราอยู่ที่มหาวิทยาลัยเชียงใหม่',\n",
       " 'เราอยู่ที่มหาวิทยาลัยรามคําแหง',\n",
       " 'เราอยู่ที่มหาวิทยาลัยมหิดล',\n",
       " 'เราอยู่ที่มหาวิทยาลัยขอนแก่น']"
      ]
     },
     "execution_count": 22,
     "metadata": {},
     "output_type": "execute_result"
    }
   ],
   "source": [
    "a.augment(text, num_replace_tokens=1)"
   ]
  },
  {
   "cell_type": "code",
   "execution_count": 6,
   "metadata": {},
   "outputs": [
    {
     "data": {
      "text/plain": [
       "['ผมขาย ข้าวมันไก่',\n",
       " 'ผมชื่อ ข้าวมันไก่',\n",
       " 'ผมชอบกิน ข้าวมันไก่',\n",
       " 'ผมอยากกิน ข้าวมันไก่',\n",
       " 'ผมกิน ข้าวมันไก่']"
      ]
     },
     "execution_count": 6,
     "metadata": {},
     "output_type": "execute_result"
    }
   ],
   "source": [
    "a.augment(\"ผมอยากกินข้าวมันไก่\", num_replace_tokens=1)"
   ]
  },
  {
   "cell_type": "code",
   "execution_count": 7,
   "metadata": {},
   "outputs": [
    {
     "data": {
      "text/plain": [
       "['ผมเลี้ยงเอง',\n",
       " 'ผมเลี้ยงแมว',\n",
       " 'ผมเลี้ยงหมา',\n",
       " 'ผมเลี้ยงได้',\n",
       " 'ผมเลี้ยงครับ',\n",
       " 'ผมเลี้ยง แมว',\n",
       " 'ผมเป็น แมว',\n",
       " 'ผมชื่อ แมว',\n",
       " 'ผมรัก แมว',\n",
       " 'ผมสงสาร แมว']"
      ]
     },
     "execution_count": 7,
     "metadata": {},
     "output_type": "execute_result"
    }
   ],
   "source": [
    "a.augment(\"ผมเลี้ยงแมว\", num_replace_tokens=2)"
   ]
  },
  {
   "cell_type": "code",
   "execution_count": null,
   "metadata": {},
   "outputs": [],
   "source": []
  }
 ],
 "metadata": {
  "kernelspec": {
   "display_name": "Python 3",
   "language": "python",
   "name": "python3"
  },
  "language_info": {
   "codemirror_mode": {
    "name": "ipython",
    "version": 3
   },
   "file_extension": ".py",
   "mimetype": "text/x-python",
   "name": "python",
   "nbconvert_exporter": "python",
   "pygments_lexer": "ipython3",
   "version": "3.8.5"
  }
 },
 "nbformat": 4,
 "nbformat_minor": 4
}
