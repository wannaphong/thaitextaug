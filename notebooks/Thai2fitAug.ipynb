{
 "cells": [
  {
   "cell_type": "code",
   "execution_count": null,
   "metadata": {},
   "outputs": [],
   "source": [
    "!pip install thaitextaug"
   ]
  },
  {
   "cell_type": "markdown",
   "metadata": {},
   "source": [
    "# Thai2fitAug\n",
    "\n",
    "Text Augment using word2vec from Thai2Fit\n",
    "\n",
    "GitHub: https://github.com/cstorm125/thai2fit"
   ]
  },
  {
   "cell_type": "code",
   "execution_count": 1,
   "metadata": {},
   "outputs": [],
   "source": [
    "from thaitextaug.word2vec import Thai2fitAug"
   ]
  },
  {
   "cell_type": "code",
   "execution_count": 2,
   "metadata": {},
   "outputs": [],
   "source": [
    "text = \"เราเรียนอยู่ที่มหาวิทยาลัยขอนแก่นวิทยาเขตหนองคาย\""
   ]
  },
  {
   "cell_type": "code",
   "execution_count": 3,
   "metadata": {},
   "outputs": [],
   "source": [
    "a=Thai2fitAug()"
   ]
  },
  {
   "cell_type": "code",
   "execution_count": 4,
   "metadata": {},
   "outputs": [
    {
     "data": {
      "text/plain": [
       "['เรา', 'เรียน', 'อยู่', 'ที่', 'มหาวิทยาลัยขอนแก่น', 'วิทยาเขต', 'หนองคาย']"
      ]
     },
     "execution_count": 4,
     "metadata": {},
     "output_type": "execute_result"
    }
   ],
   "source": [
    "a.tokenizer(text)"
   ]
  },
  {
   "cell_type": "code",
   "execution_count": 11,
   "metadata": {},
   "outputs": [
    {
     "data": {
      "text/plain": [
       "[('พวกเรา',\n",
       "  'เรียน',\n",
       "  'อยู่',\n",
       "  'ที่',\n",
       "  'มหาวิทยาลัยนเรศวร',\n",
       "  'วิทยาเขต',\n",
       "  'กาฬสินธุ์'),\n",
       " ('พวกเรา',\n",
       "  'เรียน',\n",
       "  'อยู่',\n",
       "  'ที่',\n",
       "  'มหาวิทยาลัยนเรศวร',\n",
       "  'วิทยาเขต',\n",
       "  'มุกดาหาร'),\n",
       " ('พวกเรา', 'เรียน', 'อยู่', 'ที่', 'มหาวิทยาลัยนเรศวร', 'วิทยาเขต', 'นครพนม')]"
      ]
     },
     "execution_count": 11,
     "metadata": {},
     "output_type": "execute_result"
    }
   ],
   "source": [
    "a.augment(text, n_sent=3, p = 0.5)"
   ]
  },
  {
   "cell_type": "code",
   "execution_count": null,
   "metadata": {},
   "outputs": [],
   "source": []
  }
 ],
 "metadata": {
  "kernelspec": {
   "display_name": "Python 3",
   "language": "python",
   "name": "python3"
  },
  "language_info": {
   "codemirror_mode": {
    "name": "ipython",
    "version": 3
   },
   "file_extension": ".py",
   "mimetype": "text/x-python",
   "name": "python",
   "nbconvert_exporter": "python",
   "pygments_lexer": "ipython3",
   "version": "3.8.5"
  }
 },
 "nbformat": 4,
 "nbformat_minor": 4
}
