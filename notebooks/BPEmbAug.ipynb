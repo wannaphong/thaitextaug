{
 "cells": [
  {
   "cell_type": "code",
   "execution_count": null,
   "metadata": {},
   "outputs": [],
   "source": [
    "!pip install thaitextaug"
   ]
  },
  {
   "cell_type": "markdown",
   "metadata": {},
   "source": [
    "# BPEmbAug\n",
    "\n",
    "Text Augment using word2vec from BPEmb\n",
    "\n",
    "GitHub: https://github.com/bheinzerling/bpemb"
   ]
  },
  {
   "cell_type": "code",
   "execution_count": 2,
   "metadata": {},
   "outputs": [],
   "source": [
    "from thaitextaug.word2vec import BPEmbAug"
   ]
  },
  {
   "cell_type": "code",
   "execution_count": 3,
   "metadata": {},
   "outputs": [],
   "source": [
    "text = \"เราอยู่ที่มหาวิทยาลัยขอนแก่น\""
   ]
  },
  {
   "cell_type": "code",
   "execution_count": 4,
   "metadata": {},
   "outputs": [
    {
     "name": "stdout",
     "output_type": "stream",
     "text": [
      "downloading https://nlp.h-its.org/bpemb/th/th.wiki.bpe.vs100000.model\n"
     ]
    },
    {
     "name": "stderr",
     "output_type": "stream",
     "text": [
      "100%|████████████████████████████████████████████████████████████████████| 3210051/3210051 [00:01<00:00, 1714692.02B/s]\n"
     ]
    },
    {
     "name": "stdout",
     "output_type": "stream",
     "text": [
      "downloading https://nlp.h-its.org/bpemb/th/th.wiki.bpe.vs100000.d300.w2v.bin.tar.gz\n"
     ]
    },
    {
     "name": "stderr",
     "output_type": "stream",
     "text": [
      "100%|████████████████████████████████████████████████████████████████| 112536302/112536302 [00:28<00:00, 3949670.91B/s]\n"
     ]
    }
   ],
   "source": [
    "a=BPEmbAug(dim=300)"
   ]
  },
  {
   "cell_type": "code",
   "execution_count": 5,
   "metadata": {},
   "outputs": [
    {
     "data": {
      "text/plain": [
       "['▁เรา', 'อยู่ที่', 'มหาวิทยาลัย', 'ขอนแก่น']"
      ]
     },
     "execution_count": 5,
     "metadata": {},
     "output_type": "execute_result"
    }
   ],
   "source": [
    "a.tokenizer(text)"
   ]
  },
  {
   "cell_type": "code",
   "execution_count": 6,
   "metadata": {},
   "outputs": [
    {
     "data": {
      "text/plain": [
       "['ที่เราอยู่จากมหาวิทยาลัยมหาสารคาม',\n",
       " 'ที่เราอยู่ในรามคําแหงเชียงใหม่',\n",
       " 'เราอยู่ในธรรมศาสตร์จังหวัดขอนแก่น',\n",
       " 'ที่เราอยู่ในรามคําแหงจังหวัดขอนแก่น',\n",
       " 'ที่เราอยู่ในสถาบันเชียงใหม่',\n",
       " 'เราอยู่เกษตรศาสตร์มหาวิทยาลัย',\n",
       " 'เราอยู่มหาวิทยาลัยเชียงใหม่',\n",
       " 'ที่เราไว้ที่วิศวกรรมศาสตร์เชียงใหม่',\n",
       " 'เราไว้ที่วิศวกรรมศาสตร์มหาสารคาม',\n",
       " 'ที่เราอยู่ของมหาวิทยาลัยอุบลราชธานี']"
      ]
     },
     "execution_count": 6,
     "metadata": {},
     "output_type": "execute_result"
    }
   ],
   "source": [
    "a.augment(text, n_sent=10, p = 0.5)"
   ]
  },
  {
   "cell_type": "code",
   "execution_count": null,
   "metadata": {},
   "outputs": [],
   "source": []
  }
 ],
 "metadata": {
  "kernelspec": {
   "display_name": "Python 3",
   "language": "python",
   "name": "python3"
  },
  "language_info": {
   "codemirror_mode": {
    "name": "ipython",
    "version": 3
   },
   "file_extension": ".py",
   "mimetype": "text/x-python",
   "name": "python",
   "nbconvert_exporter": "python",
   "pygments_lexer": "ipython3",
   "version": "3.8.5"
  }
 },
 "nbformat": 4,
 "nbformat_minor": 4
}
