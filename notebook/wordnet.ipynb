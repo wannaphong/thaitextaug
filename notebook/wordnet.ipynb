{
 "cells": [
  {
   "cell_type": "code",
   "execution_count": 1,
   "metadata": {},
   "outputs": [],
   "source": [
    "from thaitextaug.wordnet import WordNetAug"
   ]
  },
  {
   "cell_type": "code",
   "execution_count": 18,
   "metadata": {},
   "outputs": [],
   "source": [
    "text = \"เรารักคุณมากที่สุดในโลก\""
   ]
  },
  {
   "cell_type": "code",
   "execution_count": 19,
   "metadata": {},
   "outputs": [],
   "source": [
    "a = WordNetAug()"
   ]
  },
  {
   "cell_type": "code",
   "execution_count": 20,
   "metadata": {},
   "outputs": [
    {
     "data": {
      "text/plain": [
       "[['เรา', 'รัก', 'คุณ', 'มาก', 'ที่สุด', 'ใน', 'โลก'],\n",
       " ['เรา', 'รัก', 'คุณ', 'มาก', 'ที่สุด', 'ใน', 'โลกมนุษย์'],\n",
       " ['เรา', 'รัก', 'คุณ', 'มากมาย', 'ที่สุด', 'ใน', 'โลกมนุษย์'],\n",
       " ['เรา', 'รัก', 'คุณ', 'มากมาย', 'ที่สุด', 'ใน', 'โลก']]"
      ]
     },
     "execution_count": 20,
     "metadata": {},
     "output_type": "execute_result"
    }
   ],
   "source": [
    "a.augment(text)"
   ]
  },
  {
   "cell_type": "code",
   "execution_count": 21,
   "metadata": {},
   "outputs": [
    {
     "data": {
      "text/plain": [
       "[['เรา', 'รัก', 'คุณ', 'มากมาย', 'ที่สุด', 'ใน', 'โลกมนุษย์'],\n",
       " ['เรา', 'รัก', 'คุณ', 'มากมาย', 'ที่สุด', 'ใน', 'โลก'],\n",
       " ['เรา', 'รัก', 'คุณ', 'มาก', 'ที่สุด', 'ใน', 'โลก'],\n",
       " ['เรา', 'รัก', 'คุณ', 'มาก', 'ที่สุด', 'ใน', 'โลกมนุษย์']]"
      ]
     },
     "execution_count": 21,
     "metadata": {},
     "output_type": "execute_result"
    }
   ],
   "source": [
    "a.augment(text)"
   ]
  },
  {
   "cell_type": "code",
   "execution_count": 22,
   "metadata": {},
   "outputs": [
    {
     "data": {
      "text/plain": [
       "4"
      ]
     },
     "execution_count": 22,
     "metadata": {},
     "output_type": "execute_result"
    }
   ],
   "source": [
    "len(a.augment(text))"
   ]
  },
  {
   "cell_type": "code",
   "execution_count": 23,
   "metadata": {},
   "outputs": [
    {
     "data": {
      "text/plain": [
       "4"
      ]
     },
     "execution_count": 23,
     "metadata": {},
     "output_type": "execute_result"
    }
   ],
   "source": [
    "len(a.augment(text))"
   ]
  },
  {
   "cell_type": "code",
   "execution_count": 24,
   "metadata": {},
   "outputs": [
    {
     "data": {
      "text/plain": [
       "4"
      ]
     },
     "execution_count": 24,
     "metadata": {},
     "output_type": "execute_result"
    }
   ],
   "source": [
    "len(a.augment(text))"
   ]
  },
  {
   "cell_type": "code",
   "execution_count": 25,
   "metadata": {},
   "outputs": [
    {
     "data": {
      "text/plain": [
       "[['เรา', 'รัก', 'คุณ', 'มาก', 'ที่สุด', 'ใน', 'โลกมนุษย์'],\n",
       " ['เรา', 'รัก', 'คุณ', 'มากมาย', 'ที่สุด', 'ใน', 'โลกมนุษย์'],\n",
       " ['เรา', 'รัก', 'คุณ', 'มาก', 'ที่สุด', 'ใน', 'โลก'],\n",
       " ['เรา', 'รัก', 'คุณ', 'มากมาย', 'ที่สุด', 'ใน', 'โลก']]"
      ]
     },
     "execution_count": 25,
     "metadata": {},
     "output_type": "execute_result"
    }
   ],
   "source": [
    "a.augment(text, max_syn_sent=1000)"
   ]
  },
  {
   "cell_type": "code",
   "execution_count": null,
   "metadata": {},
   "outputs": [],
   "source": []
  },
  {
   "cell_type": "code",
   "execution_count": null,
   "metadata": {},
   "outputs": [],
   "source": []
  }
 ],
 "metadata": {
  "kernelspec": {
   "display_name": "Python 3",
   "language": "python",
   "name": "python3"
  },
  "language_info": {
   "codemirror_mode": {
    "name": "ipython",
    "version": 3
   },
   "file_extension": ".py",
   "mimetype": "text/x-python",
   "name": "python",
   "nbconvert_exporter": "python",
   "pygments_lexer": "ipython3",
   "version": "3.8.5"
  }
 },
 "nbformat": 4,
 "nbformat_minor": 4
}
