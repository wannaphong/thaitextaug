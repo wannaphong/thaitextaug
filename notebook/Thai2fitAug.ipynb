{
 "cells": [
  {
   "cell_type": "code",
   "execution_count": 1,
   "metadata": {},
   "outputs": [],
   "source": [
    "from thaitextaug.word2vec import Thai2fitAug"
   ]
  },
  {
   "cell_type": "code",
   "execution_count": 2,
   "metadata": {},
   "outputs": [],
   "source": [
    "text = \"เราเรียนอยู่ที่มหาวิทยาลัยขอนแก่นวิทยาเขตหนองคาย\""
   ]
  },
  {
   "cell_type": "code",
   "execution_count": 3,
   "metadata": {},
   "outputs": [],
   "source": [
    "a=Thai2fitAug()"
   ]
  },
  {
   "cell_type": "code",
   "execution_count": 4,
   "metadata": {},
   "outputs": [
    {
     "data": {
      "text/plain": [
       "['เรา', 'เรียน', 'อยู่', 'ที่', 'มหาวิทยาลัยขอนแก่น', 'วิทยาเขต', 'หนองคาย']"
      ]
     },
     "execution_count": 4,
     "metadata": {},
     "output_type": "execute_result"
    }
   ],
   "source": [
    "a.tokenizer(text)"
   ]
  },
  {
   "cell_type": "code",
   "execution_count": 5,
   "metadata": {},
   "outputs": [
    {
     "data": {
      "text/plain": [
       "[['พวกเรา',\n",
       "  'เรียน',\n",
       "  'อยู่',\n",
       "  'ที่',\n",
       "  'มหาวิทยาลัยศรีนครินทรวิโรฒ',\n",
       "  'วิทยาเขต',\n",
       "  'ยโสธร'],\n",
       " ['ข้าพเจ้า',\n",
       "  'เรียน',\n",
       "  'อยู่',\n",
       "  'ที่',\n",
       "  'มหาวิทยาลัยนเรศวร',\n",
       "  'วิทยาเขต',\n",
       "  'นครพนม'],\n",
       " ['ข้าพเจ้า',\n",
       "  'เรียน',\n",
       "  'อยู่',\n",
       "  'ที่',\n",
       "  'มหาวิทยาลัยสุโขทัยธรรมาธิราช',\n",
       "  'วิทยาเขต',\n",
       "  'ร้อยเอ็ด'],\n",
       " ['พวกเรา',\n",
       "  'เรียน',\n",
       "  'อยู่',\n",
       "  'ที่',\n",
       "  'มหาวิทยาลัยสุโขทัยธรรมาธิราช',\n",
       "  'วิทยาเขต',\n",
       "  'กาฬสินธุ์'],\n",
       " ['พวกเรา',\n",
       "  'เรียน',\n",
       "  'อยู่',\n",
       "  'ที่',\n",
       "  'มหาวิทยาลัยสงขลานครินทร์',\n",
       "  'วิทยาเขต',\n",
       "  'อุบลราชธานี'],\n",
       " ['ข้าพเจ้า',\n",
       "  'เรียน',\n",
       "  'อยู่',\n",
       "  'ที่',\n",
       "  'มหาวิทยาลัยรังสิต',\n",
       "  'วิทยาเขต',\n",
       "  'สกลนคร'],\n",
       " ['พวกเรา',\n",
       "  'เรียน',\n",
       "  'อยู่',\n",
       "  'ที่',\n",
       "  'มหาวิทยาลัยสงขลานครินทร์',\n",
       "  'วิทยาเขต',\n",
       "  'กาฬสินธุ์'],\n",
       " ['พวกเรา',\n",
       "  'เรียน',\n",
       "  'อยู่',\n",
       "  'ที่',\n",
       "  'สถาบันบัณฑิตพัฒนบริหารศาสตร์',\n",
       "  'วิทยาเขต',\n",
       "  'มุกดาหาร'],\n",
       " ['พวกเรา',\n",
       "  'เรียน',\n",
       "  'อยู่',\n",
       "  'ที่',\n",
       "  'มหาวิทยาลัยรามคำแหง',\n",
       "  'วิทยาเขต',\n",
       "  'มุกดาหาร'],\n",
       " ['ข้าพเจ้า',\n",
       "  'เรียน',\n",
       "  'อยู่',\n",
       "  'ที่',\n",
       "  'มหาวิทยาลัยศรีนครินทรวิโรฒ',\n",
       "  'วิทยาเขต',\n",
       "  'นครพนม']]"
      ]
     },
     "execution_count": 5,
     "metadata": {},
     "output_type": "execute_result"
    }
   ],
   "source": [
    "a.augment(text, n_sent=10, p = 0.5)"
   ]
  },
  {
   "cell_type": "code",
   "execution_count": null,
   "metadata": {},
   "outputs": [],
   "source": []
  }
 ],
 "metadata": {
  "kernelspec": {
   "display_name": "Python 3",
   "language": "python",
   "name": "python3"
  },
  "language_info": {
   "codemirror_mode": {
    "name": "ipython",
    "version": 3
   },
   "file_extension": ".py",
   "mimetype": "text/x-python",
   "name": "python",
   "nbconvert_exporter": "python",
   "pygments_lexer": "ipython3",
   "version": "3.8.5"
  }
 },
 "nbformat": 4,
 "nbformat_minor": 4
}
